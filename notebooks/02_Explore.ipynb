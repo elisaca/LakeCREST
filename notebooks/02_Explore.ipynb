{
 "cells": [
  {
   "cell_type": "markdown",
   "id": "6db29714",
   "metadata": {},
   "source": [
    "# LakeCREST notebooks\n",
    "*Version: 08.04.2022 14:45*\n",
    "## 2. Explore subset (LSWT)\n",
    "In this script we will use [**xarray**](https://docs.xarray.dev/en/latest/index.html) and [**dask**](https://dask.org/) to explore LSWT lake subset of the [**ESA CCI Lakes v1.1**](https://catalogue.ceda.ac.uk/uuid/ef1627f523764eae8bbb6b81bf1f7a0a)."
   ]
  },
  {
   "cell_type": "markdown",
   "id": "c8828c87",
   "metadata": {},
   "source": [
    "### 2.1 Importing modules\n",
    "First, we import the necessary python modules for the following steps."
   ]
  },
  {
   "cell_type": "code",
   "execution_count": null,
   "id": "0391edbc",
   "metadata": {},
   "outputs": [],
   "source": [
    "import pathlib\n",
    "import xarray as xr\n",
    "import numpy as np\n",
    "import time\n",
    "import pandas as pd\n",
    "from dask.distributed import Client"
   ]
  },
  {
   "cell_type": "markdown",
   "id": "f8947351",
   "metadata": {},
   "source": [
    "### 2.2 Load Dataset\n",
    "Show a list of all available lake subsets in the subset folder."
   ]
  },
  {
   "cell_type": "code",
   "execution_count": null,
   "id": "8282b057",
   "metadata": {},
   "outputs": [],
   "source": [
    "# Search for available .zarr folders\n",
    "path_ssdir = path_wrk = pathlib.Path().absolute().joinpath('subsets')\n",
    "ss_list = sorted(path_ssdir.glob('*.zip'))\n",
    "\n",
    "print('The following lake subsets are currently available: ')\n",
    "for ss in ss_list: print(f'- {ss.stem.split(\"-\")[-2]: <13}\\t({ss.stem.split(\"-\")[-1]})')"
   ]
  },
  {
   "cell_type": "markdown",
   "id": "0337a42a",
   "metadata": {},
   "source": [
    "#### Define study lake (✦ User inputs)\n",
    "Select the desired study lake and ESA CCI Lakes version number."
   ]
  },
  {
   "cell_type": "code",
   "execution_count": null,
   "id": "160ae4eb",
   "metadata": {},
   "outputs": [],
   "source": [
    "# User input: Define lake\n",
    "lakename = 'Michigan'\n",
    "version ='1.1' # ='2.0'"
   ]
  },
  {
   "cell_type": "markdown",
   "id": "503fbe8b",
   "metadata": {},
   "source": [
    "Now we can look for the subset in the \\subsets folder and load it."
   ]
  },
  {
   "cell_type": "code",
   "execution_count": null,
   "id": "b0ce7e3c",
   "metadata": {
    "scrolled": true
   },
   "outputs": [],
   "source": [
    "# Define subset filepath\n",
    "path_wrk = pathlib.Path().absolute()\n",
    "path_ss = path_wrk.joinpath(fr'subsets\\ESACCI-LAKES-L3S-LK_PRODUCTS-MERGED-LSWT_LIC-{lakename}-fv{version}.zip')\n",
    "\n",
    "if not(path_ss.exists()):\n",
    "    # If file doesn't exist throw error\n",
    "    print(f'Error: No subset for Lake {lakename} found in subset folder!')\n",
    "else:\n",
    "    # Load dataset\n",
    "    print(f'Subset for Lake {lakename} found in subset folder and loaded.')\n",
    "    DS = xr.open_zarr(store=path_ss)\n",
    "#     DS = xr.open_dataset(filename_or_obj=path_ss,\n",
    "#                          engine='netcdf4',\n",
    "#                          decode_cf=True,\n",
    "#                          chunks='auto'\n",
    "#                         )"
   ]
  },
  {
   "cell_type": "markdown",
   "id": "fa48125c",
   "metadata": {},
   "source": [
    "Preview the loaded lake data."
   ]
  },
  {
   "cell_type": "code",
   "execution_count": null,
   "id": "68d798eb",
   "metadata": {},
   "outputs": [],
   "source": [
    "DS"
   ]
  },
  {
   "cell_type": "markdown",
   "id": "7194c936",
   "metadata": {},
   "source": [
    "### 2.3 Preprocessing data\n",
    "#### LSWT: Mask by quality flag\n",
    "Using the variable 'lswt_quality_level' we can mask out cells that don't fulfill the necessary quality criteria for lake surface water quality that ranges from 0 to 5:\n",
    "\n",
    "- 0: unprocessed \n",
    "- 1: bad \n",
    "- 2: marginal \n",
    "- 3: intermediate\n",
    "- 4: good \n",
    "- 5: best\n",
    "\n",
    "Within the [D4.1: Product Validation and Intercomparison Report](https://climate.esa.int/media/documents/CCI-LAKES-0031-PVIR_v1.4.pdf) the authors of the ESA CCI Lakes product recommend to limit the use of LSWT for lake-climate applications to quality flags 4-5 (good and best).\n",
    "\n",
    "#### LIC: Mask by class\n",
    "We also mask out all non-ice pixels in the LIC data using the given classification scheme ranging from 1 to 4:\n",
    "\n",
    "- 1: water \n",
    "- 2: ice \n",
    "- 3: cloud\n",
    "- 4: bad \n",
    "\n",
    "Then we can add reasign nan cells that are ice-cells to LSWT with the temperature 0°C/273.15°K."
   ]
  },
  {
   "cell_type": "code",
   "execution_count": null,
   "id": "ad1ec035",
   "metadata": {},
   "outputs": [],
   "source": [
    "qmask = (DS['lswt_quality_level']>1)\n",
    "lswt_masked = DS['lake_surface_water_temperature'].where(cond=qmask)\n",
    "\n",
    "# Set values where there's ice to 0°C/273.15°K for the LSWT variable\n",
    "lswt_masked = xr.where(DS['lake_ice_cover']==2, 273.15, lswt_masked, keep_attrs=False)\n",
    "lswt_masked = lswt_masked.rename('lswt')"
   ]
  },
  {
   "cell_type": "markdown",
   "id": "6d72967d",
   "metadata": {},
   "source": [
    "#### Drop days with no data\n",
    "We can drop days with all-nan values for the variable 'lake_surface_water_temperature' by using the [**xarray.Dataset.dropna**](https://docs.xarray.dev/en/latest/generated/xarray.Dataset.dropna.html) function with the parameter ***how='all'***."
   ]
  },
  {
   "cell_type": "code",
   "execution_count": null,
   "id": "83fc3fde",
   "metadata": {},
   "outputs": [],
   "source": [
    "lswt_masked_dropna = lswt_masked.dropna(dim='time', \n",
    "                                        how='all')\n",
    "\n",
    "dropcount = lswt_masked.time.size - lswt_masked_dropna.time.size\n",
    "\n",
    "print(f'Dropped {dropcount} ({dropcount/lswt_masked.time.size*100:0.1f}%) days ' \\\n",
    "      'with all-masked cells (from {lswt_masked.time.size} to {lswt_masked_dropna.time.size})')\n",
    "\n",
    "lswt_masked_dropna"
   ]
  },
  {
   "cell_type": "markdown",
   "id": "559ef12e",
   "metadata": {},
   "source": [
    "### 2.4 Plotting\n",
    "#### 2.4.1 LSWT Time-series animation\n",
    "Let's explore the time-series LSWT data. To do this we first convert the [xarray.Dataset](https://docs.xarray.dev/en/latest/generated/xarray.Dataset.html) to a [xarray.Dataarray](https://docs.xarray.dev/en/latest/generated/xarray.DataArray.html) containing only the variable 'lake_surface_water_temperature' and convert the value from °K to °C."
   ]
  },
  {
   "cell_type": "code",
   "execution_count": null,
   "id": "736a5019",
   "metadata": {},
   "outputs": [],
   "source": [
    "lswt = lswt_masked_dropna-273.15"
   ]
  },
  {
   "cell_type": "markdown",
   "id": "cadd9f15",
   "metadata": {},
   "source": [
    "Now we can create an interactive animation that displays the temperature data in a cartographic reference system using [Holoviews](https://holoviews.org/) and [Cartopy](https://scitools.org.uk/cartopy/docs/latest/)."
   ]
  },
  {
   "cell_type": "code",
   "execution_count": null,
   "id": "a387c092",
   "metadata": {},
   "outputs": [],
   "source": [
    "import hvplot.xarray\n",
    "import holoviews as hv\n",
    "import cartopy.crs as ccrs\n",
    "\n",
    "# Define CRS\n",
    "crs = ccrs.PlateCarree(central_longitude=0, globe=None)\n",
    "\n",
    "# Plot time-series data\n",
    "plot_lswt = lswt.hvplot(\n",
    "    geo=True, tiles='CartoLight',\n",
    "    groupby=\"time\",  # adds a widget for time\n",
    "    clim=(0, 25),  # sets colormap limits\n",
    "    crs=crs,\n",
    "    cmap='jet',\n",
    "    widget_type=\"scrubber\",\n",
    "    widget_location=\"bottom\",\n",
    "    #width=300,\n",
    "    xlabel='Longitude', ylabel='Latitude',\n",
    "    #title=f'ESA CCI Lakes v1.1\\nLake {lakename} LSWT animation',\n",
    "    clabel='Lake surface water temperature (°C)'\n",
    ")\n",
    "\n",
    "plot_lswt"
   ]
  },
  {
   "cell_type": "markdown",
   "id": "1d939ba2",
   "metadata": {},
   "source": [
    "#### LSWT Time-series animation (weekly aggregates)\n",
    "For many days the data availability is strongly impaired by cloud coverage. One possibility to deal with this is to trade the temporal resolution for data availability and create weekly aggregates out of the daily dataset. Note, weeks with all all-nan days are excluded."
   ]
  },
  {
   "cell_type": "code",
   "execution_count": null,
   "id": "710e0efe",
   "metadata": {},
   "outputs": [],
   "source": [
    "import hvplot.xarray\n",
    "import holoviews as hv\n",
    "import cartopy.crs as ccrs\n",
    "\n",
    "# Create weekly aggegrates by resampling from \n",
    "# daily to weekly and applying the weekly mean over time\n",
    "lswt_weekly = lswt.resample(time=\"W-MON\").mean(dim=[\"time\"], skipna=True)\n",
    "\n",
    "# Define CRS\n",
    "crs = ccrs.PlateCarree(central_longitude=0, globe=None)\n",
    "\n",
    "# Plot time-series data\n",
    "plot_lswt_weekly = lswt_weekly.hvplot(\n",
    "    geo=True, tiles='CartoLight',\n",
    "    groupby=\"time\",  # adds a widget for time\n",
    "    clim=(0, 25),  # sets colormap limits\n",
    "    crs=crs,\n",
    "    cmap='jet',\n",
    "    widget_type=\"scrubber\",\n",
    "    widget_location=\"bottom\",\n",
    "    #width=300,\n",
    "    xlabel='Longitude', ylabel='Latitude',\n",
    "    #title=f'ESA CCI Lakes v1.1\\nLake {lakename} LSWT animation',\n",
    "    clabel='Lake surface water temperature (°C)'\n",
    ")\n",
    "\n",
    "plot_lswt_weekly"
   ]
  },
  {
   "cell_type": "markdown",
   "id": "993926e3",
   "metadata": {},
   "source": [
    " #### 2.4.2 Setup plot export function based on Bokeh"
   ]
  },
  {
   "cell_type": "code",
   "execution_count": null,
   "id": "d51ec63c",
   "metadata": {},
   "outputs": [],
   "source": [
    "def exportPlot(plot, fn):\n",
    "    \"\"\"Takes plot and saves it as .png and .svg in subfolder with the provided filename\"\"\"\n",
    "    import holoviews as hv\n",
    "    import cairosvg\n",
    "    from bokeh.io import export_svgs\n",
    "    \n",
    "    #set the backend and the renderer\n",
    "    hv.extension('bokeh')\n",
    "    br = hv.renderer('bokeh')\n",
    "\n",
    "    #export the plot\n",
    "    plot = br.get_plot(plot)\n",
    "    plot = plot.state\n",
    "    plot.output_backend='svg'\n",
    "\n",
    "    # check if svgs dir is already created\n",
    "    pathlib.Path('svgs').mkdir(parents=False, exist_ok=True)\n",
    "    pathlib.Path('pngs').mkdir(parents=False, exist_ok=True)\n",
    "    path_svg = rf'svgs\\{fn}.svg'\n",
    "    path_png = rf'pngs\\{fn}.png'\n",
    "    export_svgs(plot, filename=path_svg)\n",
    "    cairosvg.svg2png(url=path_svg, write_to=path_png, scale=2.0)\n",
    "\n",
    "    print(f'Exported .svg to \"{pathlib.Path().absolute().joinpath(path_svg)}\".')\n",
    "    print(f'Exported .png to \"{pathlib.Path().absolute().joinpath(path_png)}\".')"
   ]
  },
  {
   "cell_type": "markdown",
   "id": "a6a8eafa",
   "metadata": {},
   "source": [
    "#### 2.4.3 Mean LSWT\n",
    "#### Mean LSWT plot\n",
    "We can use [**xarray.DataArray.mean**](https://docs.xarray.dev/en/latest/generated/xarray.DataArray.mean.html) with the parameters ***dim*** and ***skipna*** to plot the spatially aggregated daily LSWT mean over time."
   ]
  },
  {
   "cell_type": "code",
   "execution_count": null,
   "id": "3457f341",
   "metadata": {
    "scrolled": true
   },
   "outputs": [],
   "source": [
    "import hvplot.xarray\n",
    "\n",
    "# Slice data with timeslice\n",
    "timeslice = slice('2006-01-01', '2007-12-31')\n",
    "lswt_slice = lswt.sel(time=timeslice)\n",
    "\n",
    "# Compute daily means and load to memory\n",
    "lswt_slice_mean = lswt_slice.mean(dim=[\"lat\", \"lon\"], skipna=True).compute()\n",
    "\n",
    "# Create a line plot using hvplot\n",
    "lineplot = lswt_slice_mean.hvplot.line(ylabel='Mean LSWT (°C)', \n",
    "                                       title=f'ESA CCI Lakes v{version}\\nLake {lakename} LSWT mean')\n",
    "\n",
    "# Create a scatter plot using hvplot\n",
    "scatterplot = lswt_slice_mean.hvplot.scatter(c='k')\n",
    "\n",
    "# Overlay plots to create output\n",
    "combined = lineplot * scatterplot\n",
    "combined"
   ]
  },
  {
   "cell_type": "code",
   "execution_count": null,
   "id": "6da7a610",
   "metadata": {},
   "outputs": [],
   "source": [
    "# Export plot\n",
    "fn = f'{lakename}-LSWT-MeanScatter-{timeslice.start}-{timeslice.stop}'\n",
    "exportPlot(combined, fn)"
   ]
  },
  {
   "cell_type": "markdown",
   "id": "8133fb6e",
   "metadata": {},
   "source": [
    "#### Mean LSWT plot (by coverage)\n",
    "As we can see there are days with outliers. Especially, days with very low data coverage and missclassified ice cells. We can set a treshold for a minimal lake coverage and replot the data."
   ]
  },
  {
   "cell_type": "code",
   "execution_count": null,
   "id": "55a6cbe4",
   "metadata": {},
   "outputs": [],
   "source": [
    "import holoviews as hv\n",
    "import warnings\n",
    "\n",
    "# Slice data with timeslice\n",
    "timeslice = slice('2006-01-01', '2007-12-31')\n",
    "lswt_slice = lswt.sel(time=timeslice)\n",
    "\n",
    "# Ignore All-NaN slice warnings because they are expected\n",
    "warnings.filterwarnings(action='ignore', message='All-NaN slice encountered')\n",
    "\n",
    "# Compute daily means and load to memory\n",
    "lswt_slice_mean = lswt_slice.mean(dim=[\"lat\", \"lon\"], skipna=True).compute()\n",
    "\n",
    "# Setup treshold for minimal lake coverage\n",
    "coverage_treshs = [20, 40, 60, 80] # treshold in %\n",
    "\n",
    "# Calculate cell treshold to keep daily mean\n",
    "mask = ~np.isnan(lswt_slice.max(dim='time', skipna=True))\n",
    "lakecells = np.count_nonzero(mask) # count of lakecells\n",
    "\n",
    "lineplots = []\n",
    "scatterplots = []\n",
    "\n",
    "for tresh in coverage_treshs:\n",
    "    nancells_tresh = int(lakecells*((tresh)/100)) # minimal cells treshold\n",
    "    # Use xarray.DataArray.dropna with threshold to get rid of days with low-coverage\n",
    "    lswt_slice_tresh = lswt_slice.dropna(dim='time', thresh=nancells_tresh)\n",
    "    # Compute daily means\n",
    "    lswt_slice_tresh_mean = lswt_slice_tresh.mean(dim=[\"lat\", \"lon\"], skipna=True)\n",
    "    # Create line and scatter plot for treshold\n",
    "    lineplots.append(lswt_slice_tresh_mean.hvplot.line(label=f'{tresh}%'))\n",
    "    scatterplots.append(lswt_slice_tresh_mean.hvplot.scatter())\n",
    "    print(f'Dropping days with less than {nancells_tresh} valid cells '\\\n",
    "      f'({tresh}% of Lake {lakename}): ', end='')\n",
    "    print(f'Dropped {(100-(lswt_slice_tresh_mean.size/lswt_slice_mean.size)*100):0.1f}% of available daily datapoints.')\n",
    "\n",
    "combined = lineplots+scatterplots\n",
    "combined = hv.Overlay(combined)\n",
    "combined.opts(width=900, ylabel='LSWT (°C)', title=f'ESA CCI Lakes v{version}\\nLake {lakename} LSWT mean (by coverage)')"
   ]
  },
  {
   "cell_type": "code",
   "execution_count": null,
   "id": "b822b458",
   "metadata": {},
   "outputs": [],
   "source": [
    "# Export plot\n",
    "fn = f'{lakename}-LSWT-MeanScatterByCov-{timeslice.start.replace(\"-\", \"\")}-{timeslice.stop.replace(\"-\", \"\")}'\n",
    "exportPlot(combined, fn)"
   ]
  },
  {
   "cell_type": "markdown",
   "id": "b306a869",
   "metadata": {},
   "source": [
    "#### 2.4.4 Quality mask comparison"
   ]
  },
  {
   "cell_type": "markdown",
   "id": "7b5b8a31",
   "metadata": {},
   "source": [
    "Setup two quality masked datasets with one masked from good-best and one from marginal-best."
   ]
  },
  {
   "cell_type": "code",
   "execution_count": null,
   "id": "98d6c5b7",
   "metadata": {},
   "outputs": [],
   "source": [
    "import hvplot.xarray\n",
    "\n",
    "# Quality mask 1 from good-best (4-5)\n",
    "qmask1 = (DS['lswt_quality_level']>3)\n",
    "DS_qmask1 = DS.where(cond=qmask1)\n",
    "DS_qmask1_dropna = DS_qmask1.dropna(dim='time', how='all', subset=['lake_surface_water_temperature'])\n",
    "lswt1 = DS_qmask1_dropna['lake_surface_water_temperature']-273.15\n",
    "\n",
    "# Quality mask 2 from marginal-best (2-5)\n",
    "qmask2 = (DS['lswt_quality_level']>1)\n",
    "DS_qmask2 = DS.where(cond=qmask2)\n",
    "DS_qmask2_dropna = DS_qmask2.dropna(dim='time', how='all', subset=['lake_surface_water_temperature'])\n",
    "lswt2 = DS_qmask2_dropna['lake_surface_water_temperature']-273.15\n",
    "\n",
    "# Set colors\n",
    "color1 = '#3366CC'\n",
    "color2 = '#DC3912'\n",
    "\n",
    "# Slice data with timeslice\n",
    "timeslice = slice('2006-01-01', '2007-12-31')\n",
    "lswt1_slice = lswt1.sel(time=timeslice)\n",
    "lswt2_slice = lswt2.sel(time=timeslice)\n",
    "\n",
    "# Compute daily means and load to memory\n",
    "lswt1_slice_mean = lswt1_slice.mean(dim=[\"lat\", \"lon\"], skipna=True).compute()\n",
    "lswt2_slice_mean = lswt2_slice.mean(dim=[\"lat\", \"lon\"], skipna=True).compute()"
   ]
  },
  {
   "cell_type": "markdown",
   "id": "522720a7",
   "metadata": {},
   "source": [
    "Get the relative data availability/lake coverage for the two datasets."
   ]
  },
  {
   "cell_type": "code",
   "execution_count": null,
   "id": "5c02c0d4",
   "metadata": {},
   "outputs": [],
   "source": [
    "# Create function to get daily rel. lake coverage\n",
    "def getRelCoverage(da):\n",
    "    \"\"\"Counts valid cells of xr.DataArray and returns rel. coverage\"\"\"\n",
    "    warnings.filterwarnings(action='ignore', message='All-NaN slice encountered') # all-nan expected\n",
    "    # Calculate cell treshold to keep daily mean\n",
    "    mask = ~np.isnan(da.max(dim='time', skipna=True))\n",
    "    lakecells = np.count_nonzero(mask) # count of lakecells\n",
    "    validCellsArray = (~np.isnan(da))\n",
    "    validCellsRelCountArray = (validCellsArray.sum(dim=['lat', 'lon'])/lakecells)*100       \n",
    "    return(validCellsRelCountArray)\n",
    "\n",
    "coverage1 = getRelCoverage(DS_qmask1['lake_surface_water_temperature'].sel(time=timeslice)-273.15)\n",
    "coverage2 = getRelCoverage(DS_qmask2['lake_surface_water_temperature'].sel(time=timeslice)-273.15)"
   ]
  },
  {
   "cell_type": "markdown",
   "id": "1f92b281",
   "metadata": {},
   "source": [
    "Plot two datasets together in scatterplot."
   ]
  },
  {
   "cell_type": "code",
   "execution_count": null,
   "id": "33e066ea",
   "metadata": {},
   "outputs": [],
   "source": [
    "# Create lineplots\n",
    "lineplot1 = lswt1_slice_mean.hvplot.line(c=color1)\n",
    "lineplot2 = lswt2_slice_mean.hvplot.line(c=color2)\n",
    "\n",
    "# Create scatterplots\n",
    "scatterplot1 = lswt1_slice_mean.hvplot.scatter(c=color1, label='best-good', line_width=1, marker='triangle_dot', alpha=0.5)\n",
    "scatterplot2 = lswt2_slice_mean.hvplot.scatter(c=color2, label='marginal-best', line_width=1, marker='triangle_dot', alpha=0.5)\n",
    "\n",
    "# Create histograms\n",
    "#hist1 = coverage1.hvplot.area(color=color1, alpha=0.2)\n",
    "\n",
    "# Overlay plots to create output\n",
    "combined = lineplot2*lineplot1*scatterplot2*scatterplot1 #*hist1\n",
    "\n",
    "combined.opts(\n",
    "    axiswise=True,\n",
    "    width=900,\n",
    "    ylabel='Mean LSWT (°C)',\n",
    "    xlabel='Date',\n",
    "    title=f'ESA CCI Lakes v{version}\\nLake {lakename} LSWT mean (by quality, without LIC)')\n",
    "\n",
    "combined"
   ]
  },
  {
   "cell_type": "code",
   "execution_count": null,
   "id": "c7da8f15",
   "metadata": {},
   "outputs": [],
   "source": [
    "# Export plot\n",
    "fn = f'{lakename}-LSWT-MeanScatterByQual-{timeslice.start.replace(\"-\", \"\")}-{timeslice.stop.replace(\"-\", \"\")}'\n",
    "exportPlot(combined, fn)"
   ]
  },
  {
   "cell_type": "markdown",
   "id": "59d7aaee",
   "metadata": {},
   "source": [
    "#### 2.4.7 Visualize data availability\n",
    "As we can see in the mean plots the data availability changes in accordance with missions timeline of data sources. We can use the time dimension to calculate the yearly mean coverage frequency per cell."
   ]
  },
  {
   "cell_type": "code",
   "execution_count": null,
   "id": "2d1d271e",
   "metadata": {},
   "outputs": [],
   "source": [
    "import dask.array as da\n",
    "import warnings\n",
    "\n",
    "# Setup function to compute mean time-delay of non-nan values along\n",
    "def getCovFreq(darr):\n",
    "    \"\"\"Takes xarray.DataArray and returns dataarray with mean timedelay (d) between valid values\"\"\"\n",
    "    lat_sz, lon_sz = darr.lat.size, darr.lon.size # get lat and lon sizes\n",
    "    mask = darr.to_masked_array() # create a np.masked_array from xr.dataarray\n",
    "\n",
    "    t = darr.time.values # get time dimension as array\n",
    "    t_steps = len(darr.time)\n",
    "\n",
    "    arr_t3d = np.broadcast_to(t[:, np.newaxis, np.newaxis], (t_steps, lat_sz, lon_sz)) # expand time dimension to match dataarray\n",
    "    arr_t3d_masked = np.ma.masked_where(mask.mask, arr_t3d).filled(np.datetime64('NaT'))  # mask it and set masked cells to nan\n",
    "    darr_t3d_masked = da.from_array(arr_t3d_masked, chunks='auto') # convert np.arr to dask-array\n",
    "\n",
    "    def mean_cfreq(x):\n",
    "        \"\"\"Takes np.datetime64 array and returns np.float32 array with temp-diff (d), dropping nat-values\"\"\"\n",
    "        arr = x[~np.isnat(x)] # drop nats\n",
    "        diff_td64 = np.diff(arr)\n",
    "        diff_d = (diff_td64 / np.timedelta64(1,'D')).astype(np.float32)\n",
    "        warnings.filterwarnings(action='ignore', message='Mean of empty slice')\n",
    "        return np.nanmean(diff_d) # return mean of differences\n",
    "\n",
    "    # Apply mean_cfreq along time-dimension\n",
    "    cfreq = np.apply_along_axis(mean_cfreq, 0, arr_t3d_masked)\n",
    "    xr_cfreq = xr.DataArray(data=cfreq, coords=(darr.lat.values, darr.lon.values), dims=('lat', 'lon'), name='mean_cfreq')\n",
    "    return(xr_cfreq)\n",
    "\n",
    "# Slice data with timeslice\n",
    "timeslice = slice('2005-01-01', '2008-12-31')\n",
    "lswt_slice = lswt.sel(time=timeslice)\n",
    "\n",
    "# Group LSWT by years and compute the yearly mean cell coverage frequency\n",
    "lswt_cfrwq = lswt_slice.groupby(\"time.year\").map(getCovFreq)"
   ]
  },
  {
   "cell_type": "markdown",
   "id": "8e8f452c",
   "metadata": {},
   "source": [
    "#### Yearly coverage frequency - Violin plot"
   ]
  },
  {
   "cell_type": "code",
   "execution_count": null,
   "id": "43e78bbe",
   "metadata": {},
   "outputs": [],
   "source": [
    "# Create a violin plot of the distribution of yearly mean coverage frequency\n",
    "plot = lswt_cfrwq.hvplot.violin(y='mean_cfreq', by='year', \n",
    "                                title=f'ESA CCI Lakes v{version}\\nLake {lakename} - Coverage frequency', \n",
    "                                ylabel='Yearly coverage frequency (d)', \n",
    "                                grid=True, \n",
    "                                ylim=[0,30],\n",
    "                               )\n",
    "plot"
   ]
  },
  {
   "cell_type": "code",
   "execution_count": null,
   "id": "beeb44c5",
   "metadata": {},
   "outputs": [],
   "source": [
    "# Export plot\n",
    "fn = f'{lakename}-LSWT-CoverageFreq-{timeslice.start}-{timeslice.stop}'\n",
    "exportPlot(plot, fn)"
   ]
  },
  {
   "cell_type": "markdown",
   "id": "2faedb78",
   "metadata": {},
   "source": [
    "#### Yearly coverage frequency - Yearly mean maps"
   ]
  },
  {
   "cell_type": "code",
   "execution_count": null,
   "id": "96e4c9ef",
   "metadata": {},
   "outputs": [],
   "source": [
    "# Plot yearly mean coverage frequency maps \n",
    "lswt_cfrwq.hvplot(geo=True, \n",
    "                  tiles='CartoLight',\n",
    "                  groupby=\"year\",  # adds a widget for time\n",
    "                  clim=(0, 25),  # sets colormap limits\n",
    "                  crs=crs,\n",
    "                  cmap='jet',\n",
    "                  widget_type=\"scrubber\",\n",
    "                  widget_location=\"bottom\",\n",
    "                  #height=400,\n",
    "                  xlabel='Longitude', ylabel='Latitude',\n",
    "                  #title=f'ESA CCI Lakes v1.1\\nLake {lakename} LSWT coverage frequency',\n",
    "                  clabel='mean coverage frequency (d)'\n",
    ")"
   ]
  },
  {
   "cell_type": "markdown",
   "id": "a9c9fd92",
   "metadata": {},
   "source": [
    "#### Yearly coverage frequency - Stacked bar plot\n",
    "First we calculate the relative daily lake coverage by quality flag."
   ]
  },
  {
   "cell_type": "code",
   "execution_count": null,
   "id": "cba063d4",
   "metadata": {},
   "outputs": [],
   "source": [
    "import warnings\n",
    "\n",
    "# Colorlist with nice colors\n",
    "colorlist = ['#66AA00','#AAAA11', '#FF9900', '#E67300', '#DC3912']\n",
    "\n",
    "# Create flag count function\n",
    "def countFlags(ds):\n",
    "    \"\"\"Counts quality flags and returns xr.DataArray with rel. counts as variables\"\"\"\n",
    "    warnings.filterwarnings(action='ignore', message='All-NaN slice encountered') # all-nan expected\n",
    "    # Calculate cell treshold to keep daily mean\n",
    "    mask = ~np.isnan(ds['lake_surface_water_temperature'].max(dim='time', skipna=True))\n",
    "    lakecells = np.count_nonzero(mask) # count of lakecells\n",
    "    \n",
    "    qflags = list(range(1,6)) #list from 1-5\n",
    "    counts = []\n",
    "    labels = ['best', 'good', 'medium', 'marginal', 'bad']\n",
    "    for flag in qflags:\n",
    "        maskedArray = (ds['lswt_quality_level']==flag)\n",
    "        countArray = (maskedArray.sum(dim=['lat', 'lon'])/lakecells)*100\n",
    "        counts.append(countArray.rename(labels[flag-1]))\n",
    "        \n",
    "    return(xr.merge(counts))\n",
    "\n",
    "# Run countFlags() on dataset\n",
    "count = countFlags(DS).load()"
   ]
  },
  {
   "cell_type": "markdown",
   "id": "507b4918",
   "metadata": {},
   "source": [
    "Then we can plot the relative daily coverage per quality flag in a barplot."
   ]
  },
  {
   "cell_type": "code",
   "execution_count": null,
   "id": "8778099e",
   "metadata": {},
   "outputs": [],
   "source": [
    "from bokeh.models import FuncTickFormatter\n",
    "\n",
    "# Colorlist with nice colors\n",
    "colorlist = ['#66AA00','#AAAA11', '#FF9900', '#E67300', '#DC3912']\n",
    "\n",
    "# Create custom tickformatter based on savascript to pass to Bokeh\n",
    "# hvplot.bar has no datetime axis support\n",
    "formatter = FuncTickFormatter(code=\"\"\"\n",
    "    function getMonth(doy) {\n",
    "        const date = new Date(2022, 0, doy);\n",
    "        const month = date.toLocaleString('en-us', { month: 'short' })\n",
    "        return month;\n",
    "    }\n",
    "    return getMonth(tick)\n",
    "\"\"\")\n",
    "\n",
    "# Specify ticks as doy\n",
    "doy_month = [1,32,60,91,121,152,182,213,244,274,305,335]\n",
    "\n",
    "barplot = count.hvplot.bar(groupby=\"time.year\",\n",
    "                           stacked=True, \n",
    "                           legend='top_left',\n",
    "                           widget_type='individual',\n",
    "                           widget_location=\"bottom\",\n",
    "                           cmap=colorlist,\n",
    "                           line_alpha=0,\n",
    "                           xticks=doy_month,\n",
    "                           xformatter=formatter,\n",
    "                           width=900, height=400,\n",
    "                           ylabel='Lake coverage (%)',\n",
    "                           xlabel='Date',\n",
    "                           ylim=(0,100),\n",
    "                           xlim=(0,365),\n",
    "                           bar_width=1)\n",
    "\n",
    "# Show hvplot.bar customization options\n",
    "#hvplot.help('bar', generic=True, style=True)\n",
    "\n",
    "barplot # show plot"
   ]
  },
  {
   "cell_type": "markdown",
   "id": "47120c25",
   "metadata": {},
   "source": [
    "#### Export yearly coverage barplot\n",
    "We can create individual yearly barplots and export them as .png files."
   ]
  },
  {
   "cell_type": "code",
   "execution_count": null,
   "id": "849535c7",
   "metadata": {},
   "outputs": [],
   "source": [
    "from bokeh.models import FuncTickFormatter\n",
    "# Export specific years as .png\n",
    "years = [2006, 2008, 2018] \n",
    "#years = list(range(1995, 2020)\n",
    "\n",
    "# Colorlist with nice colors\n",
    "colorlist = ['#66AA00','#AAAA11', '#FF9900', '#E67300', '#DC3912']\n",
    "\n",
    "# Create custom tickformatter based on savascript to pass to Bokeh\n",
    "# hvplot.bar has no datetime axis support\n",
    "formatter = FuncTickFormatter(code=\"\"\"\n",
    "    function getMonth(doy) {\n",
    "        const date = new Date(2022, 0, doy);\n",
    "        const month = date.toLocaleString('en-us', { month: 'short' })\n",
    "        return month;\n",
    "    }\n",
    "    return getMonth(tick)\n",
    "\"\"\")\n",
    "\n",
    "# Specify ticks as doy\n",
    "doy_month = [1,32,60,91,121,152,182,213,244,274,305,335]\n",
    "\n",
    "for year in years:\n",
    "    count_slice = count.sel(time=slice(f'{year}-01-01', f'{year}-12-31'))\n",
    "    year_barplot =  count_slice.hvplot.bar(\n",
    "        title='ESA CCI Lakes v1.1\\nLSWT coverage by quality flag',\n",
    "        stacked=True, \n",
    "        legend='top_left',\n",
    "        cmap=colorlist,\n",
    "        line_alpha=0,\n",
    "        xticks=doy_month,\n",
    "        xformatter=formatter,\n",
    "        width=900, height=500,\n",
    "        ylabel='Lake coverage (%)',\n",
    "        xlabel='Date',\n",
    "        ylim=(0,100),\n",
    "        xlim=(0,365),\n",
    "        fontscale=1.5)\n",
    "\n",
    "    # Export the plot of the current year using our export function\n",
    "    fn = f'{lakename}-LSWT-QCoverage-{year}'\n",
    "    exportPlot(year_barplot, fn)"
   ]
  },
  {
   "cell_type": "markdown",
   "id": "48989d9b",
   "metadata": {},
   "source": [
    "### 2.4 Linear trend analysis\n",
    "We can compute the linear trend for each lake cell using the [xarray.DataArray.polyfit](https://docs.xarray.dev/en/stable/generated/xarray.DataArray.polyfit.html) function. Please note, that this is a very basic approach for trend analysis that does not take the seasonality and the inconsistent nature of the multi-source signal (e.g. data-gaps) into account."
   ]
  },
  {
   "cell_type": "code",
   "execution_count": null,
   "id": "b9cc77a7",
   "metadata": {},
   "outputs": [],
   "source": [
    "# Slice data with timeslice to get full years\n",
    "timeslice = slice('1997-01-01', '2019-01-01')\n",
    "lswt_slice = lswt.sel(time=timeslice)\n",
    "\n",
    "polyfit_results = lswt_slice.polyfit(dim='time', deg=1, skipna=True).compute()"
   ]
  },
  {
   "cell_type": "markdown",
   "id": "e66afaa9",
   "metadata": {},
   "source": [
    "Plot the linear coefficients on a map."
   ]
  },
  {
   "cell_type": "code",
   "execution_count": null,
   "id": "db110ccd",
   "metadata": {
    "scrolled": true
   },
   "outputs": [],
   "source": [
    "import math\n",
    "\n",
    "ns_per_year = 3.154e+16\n",
    "ns_per_decade = ns_per_year*10\n",
    "trend_coef = polyfit_results.polyfit_coefficients.sel(degree=1)\n",
    "trend_coef_perDec = trend_coef*ns_per_decade # convert °C/ns to °C/10y\n",
    "\n",
    "vmin = np.nanpercentile(trend_coef_perDec, 5)\n",
    "vmax = np.nanpercentile(trend_coef_perDec, 95)\n",
    "vmin_tenth = math.ceil(vmin*10)/10\n",
    "vmax_tenth = math.ceil(vmax*10)/10\n",
    "clim_abs = max(abs(vmin_tenth), abs(vmax_tenth))\n",
    "\n",
    "plot = trend_coef_perDec.hvplot(\n",
    "    clabel='trend (°C/10y)', \n",
    "    label=f'Lake {lakename}, Linear trend',\n",
    "    geo=True, \n",
    "    tiles='StamenTerrainRetina', # plot backgroundmap\n",
    "    #features={'rivers':'10m'},\n",
    "    cmap='bwr',\n",
    "    clim=(-clim_abs, clim_abs),\n",
    "    crs=crs\n",
    ")\n",
    "\n",
    "plot"
   ]
  },
  {
   "cell_type": "code",
   "execution_count": null,
   "id": "44cd9f94",
   "metadata": {},
   "outputs": [],
   "source": [
    "# Export plot\n",
    "fn = f'{lakename}-LSWT-LinTrend-{timeslice.start}-{timeslice.stop}'\n",
    "exportPlot(plot, fn)"
   ]
  },
  {
   "cell_type": "markdown",
   "id": "933ea6b5",
   "metadata": {},
   "source": [
    "Calculate the mean trend (°C/10y) over all lake cells."
   ]
  },
  {
   "cell_type": "code",
   "execution_count": null,
   "id": "8d0701fa",
   "metadata": {
    "scrolled": false
   },
   "outputs": [],
   "source": [
    "trend_coef_perDec.mean().values"
   ]
  }
 ],
 "metadata": {
  "kernelspec": {
   "display_name": "Python 3 (ipykernel)",
   "language": "python",
   "name": "python3"
  },
  "language_info": {
   "codemirror_mode": {
    "name": "ipython",
    "version": 3
   },
   "file_extension": ".py",
   "mimetype": "text/x-python",
   "name": "python",
   "nbconvert_exporter": "python",
   "pygments_lexer": "ipython3",
   "version": "3.9.7"
  }
 },
 "nbformat": 4,
 "nbformat_minor": 5
}
